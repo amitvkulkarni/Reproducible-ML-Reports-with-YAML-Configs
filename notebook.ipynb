{
 "metadata": {
  "language_info": {
   "codemirror_mode": {
    "name": "ipython",
    "version": 3
   },
   "file_extension": ".py",
   "mimetype": "text/x-python",
   "name": "python",
   "nbconvert_exporter": "python",
   "pygments_lexer": "ipython3",
   "version": "3.8.8"
  },
  "orig_nbformat": 2,
  "kernelspec": {
   "name": "python3",
   "display_name": "Python 3",
   "language": "python"
  }
 },
 "nbformat": 4,
 "nbformat_minor": 2,
 "cells": [
  {
   "cell_type": "code",
   "execution_count": null,
   "metadata": {},
   "outputs": [],
   "source": [
    "# Import important packages\n",
    "import pandas as pd\n",
    "import numpy as np\n",
    "from sklearn.model_selection import train_test_split\n",
    "from sklearn.neighbors import KNeighborsClassifier\n",
    "import joblib\n",
    "import os\n",
    "import yaml"
   ]
  },
  {
   "cell_type": "code",
   "execution_count": null,
   "metadata": {},
   "outputs": [],
   "source": [
    "# folder to load config file\n",
    "CONFIG_PATH = \"./\"\n",
    "\n",
    "# Function to load yaml configuration file\n",
    "def load_config(config_name):\n",
    "    with open(os.path.join(CONFIG_PATH, config_name)) as file:\n",
    "        config = yaml.safe_load(file)\n",
    "\n",
    "    return config\n",
    "\n",
    "\n",
    "config = load_config(\"Config.yaml\")\n",
    "print(config)"
   ]
  },
  {
   "source": [
    "Config file loaded successfully"
   ],
   "cell_type": "markdown",
   "metadata": {}
  },
  {
   "cell_type": "code",
   "execution_count": null,
   "metadata": {},
   "outputs": [],
   "source": [
    "# load data\n",
    "data = pd.read_csv(os.path.join(config[\"data_directory\"], config[\"data_name\"]))\n",
    "print(data.head(10))"
   ]
  },
  {
   "cell_type": "code",
   "execution_count": null,
   "metadata": {},
   "outputs": [],
   "source": [
    "# replace \"?\" with -99999\n",
    "data = data.replace(\"?\", -99999)\n",
    "\n",
    "# drop id column\n",
    "data = data.drop(config[\"drop_columns\"], axis=1)\n"
   ]
  },
  {
   "cell_type": "code",
   "execution_count": null,
   "metadata": {},
   "outputs": [],
   "source": [
    "# Define X (independent variables) and y (target variable)\n",
    "X = np.array(data.drop(config[\"target_name\"], 1))\n",
    "y = np.array(data[config[\"target_name\"]])\n",
    "\n",
    "# split data into train and test set\n",
    "X_train, X_test, y_train, y_test = train_test_split(\n",
    "    X, y, test_size=config[\"test_size\"], random_state=config[\"random_state\"]\n",
    ")\n",
    "print(config[\"random_state\"])"
   ]
  },
  {
   "cell_type": "code",
   "execution_count": null,
   "metadata": {},
   "outputs": [],
   "source": [
    "# call our classifer and fit to our data\n",
    "classifier = KNeighborsClassifier(\n",
    "    n_neighbors=config[\"n_neighbors\"],\n",
    "    weights=config[\"weights\"],\n",
    "    algorithm=config[\"algorithm\"],\n",
    "    leaf_size=config[\"leaf_size\"],\n",
    "    p=config[\"p\"],\n",
    "    metric=config[\"metric\"],\n",
    "    n_jobs=config[\"n_jobs\"],\n",
    ")\n",
    "# training the classifier\n",
    "classifier.fit(X_train, y_train)\n",
    "\n",
    "print(classifier)"
   ]
  },
  {
   "cell_type": "code",
   "execution_count": null,
   "metadata": {},
   "outputs": [],
   "source": [
    "# test our classifier\n",
    "result = classifier.score(X_test, y_test)\n",
    "print(\"Accuracy score is. {:.1f}\".format(result))\n",
    "\n",
    "# save our classifier in the model directory\n",
    "joblib.dump(classifier, os.path.join(config[\"model_directory\"], config[\"model_name\"]))"
   ]
  },
  {
   "cell_type": "code",
   "execution_count": null,
   "metadata": {},
   "outputs": [],
   "source": [
    "#jupyter nbconvert --execute --to html notebook.ipynb"
   ]
  }
 ]
}